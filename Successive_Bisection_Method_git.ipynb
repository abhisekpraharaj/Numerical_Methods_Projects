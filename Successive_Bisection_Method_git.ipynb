{
  "cells": [
    {
      "cell_type": "markdown",
      "source": [
        "Importing Libraries"
      ],
      "metadata": {
        "id": "5dd26256"
      },
      "id": "5dd26256"
    },
    {
      "cell_type": "code",
      "execution_count": 1,
      "id": "efee88aa",
      "metadata": {
        "id": "efee88aa"
      },
      "outputs": [],
      "source": [
        "%matplotlib inline\n",
        "import math\n",
        "import matplotlib.pyplot as plt\n",
        "import ipywidgets as widgets"
      ]
    },
    {
      "cell_type": "code",
      "execution_count": 2,
      "id": "2d1304f5",
      "metadata": {
        "id": "2d1304f5"
      },
      "outputs": [],
      "source": [
        "#Defining The Range Function:\n",
        "def range_func(angle, velocity):\n",
        "    g = 9.81  # acceleration due to gravity\n",
        "    return (velocity**2 * math.sin(2 * angle))/g\n",
        "\n",
        "\n",
        "#Defining the Range Target:\n",
        "def range_target(angle, velocity, target_distance):\n",
        "    return range_func(angle, velocity) - target_distance\n",
        "\n",
        "\n",
        "#Using Successive_Bisection Method:\n",
        "def successive_bisection(velocity, target_distance, left=0, right=math.pi/2, tol=1e-6):\n",
        "    while abs(right - left) > tol:\n",
        "        mid = (left + right)/2\n",
        "        if range_target(mid, velocity, target_distance) > 0:\n",
        "            right = mid\n",
        "        else:\n",
        "            left = mid\n",
        "    return (left + right)/2"
      ]
    },
    {
      "cell_type": "markdown",
      "source": [
        "Setting a Lower Limit"
      ],
      "metadata": {
        "id": "c4be92bb"
      },
      "id": "c4be92bb"
    },
    {
      "cell_type": "code",
      "execution_count": 3,
      "id": "0efc6598",
      "metadata": {
        "id": "0efc6598",
        "outputId": "a6e132fc-2fc2-49ab-88aa-5b56aa5e9203",
        "colab": {
          "base_uri": "https://localhost:8080/"
        }
      },
      "outputs": [
        {
          "output_type": "stream",
          "name": "stdout",
          "text": [
            "Angle: 0.28 degrees\n",
            "Maximum range: 10.00 meters\n"
          ]
        }
      ],
      "source": [
        "# Example usage:1\n",
        "velocity = 100 # m/s\n",
        "target_distance = 10  # m\n",
        "theta_opt = successive_bisection(velocity, target_distance)\n",
        "max_range = range_func(theta_opt, velocity)\n",
        "print(f\"Angle: {theta_opt*180/math.pi:.2f} degrees\")\n",
        "print(f\"Maximum range: {max_range:.2f} meters\")"
      ]
    },
    {
      "cell_type": "markdown",
      "source": [
        "Setting an Upper limit"
      ],
      "metadata": {
        "id": "3b0c7ef6"
      },
      "id": "3b0c7ef6"
    },
    {
      "cell_type": "code",
      "execution_count": 4,
      "id": "8c762763",
      "metadata": {
        "id": "8c762763",
        "outputId": "65c53e91-9fe5-4ef7-ac58-a40abfda08d4",
        "colab": {
          "base_uri": "https://localhost:8080/"
        }
      },
      "outputs": [
        {
          "output_type": "stream",
          "name": "stdout",
          "text": [
            "Angle: 44.96 degrees\n",
            "Maximum range: 1019.37 meters\n"
          ]
        }
      ],
      "source": [
        "# Example usage:2\n",
        "velocity = 100 # m/s\n",
        "target_distance = 1019.367# m\n",
        "theta_opt = successive_bisection(velocity, target_distance)\n",
        "max_range = range_func(theta_opt, velocity)\n",
        "print(f\"Angle: {theta_opt*180/math.pi:.2f} degrees\")\n",
        "print(f\"Maximum range: {max_range:.2f} meters\")\n"
      ]
    },
    {
      "cell_type": "markdown",
      "source": [
        "Creating an array of Target_distances and angles, keeping velocity constant. "
      ],
      "metadata": {
        "id": "a5a5f969"
      },
      "id": "a5a5f969"
    },
    {
      "cell_type": "code",
      "execution_count": 5,
      "id": "349b8aa0",
      "metadata": {
        "id": "349b8aa0",
        "outputId": "8098e681-b413-4836-8c6d-c93a1ac044b5",
        "colab": {
          "base_uri": "https://localhost:8080/"
        }
      },
      "outputs": [
        {
          "output_type": "stream",
          "name": "stdout",
          "text": [
            "For velocity 100 m/s and target distance 10 m:\n",
            "Angle: 0.28 degrees\n",
            "Maximum range: 10.00 meters\n",
            "For velocity 100 m/s and target distance 50 m:\n",
            "Angle: 1.41 degrees\n",
            "Maximum range: 50.00 meters\n",
            "For velocity 100 m/s and target distance 100 m:\n",
            "Angle: 2.81 degrees\n",
            "Maximum range: 100.00 meters\n",
            "For velocity 100 m/s and target distance 150 m:\n",
            "Angle: 4.23 degrees\n",
            "Maximum range: 150.00 meters\n",
            "For velocity 100 m/s and target distance 200 m:\n",
            "Angle: 5.66 degrees\n",
            "Maximum range: 200.00 meters\n",
            "For velocity 100 m/s and target distance 250 m:\n",
            "Angle: 7.10 degrees\n",
            "Maximum range: 250.00 meters\n",
            "For velocity 100 m/s and target distance 300 m:\n",
            "Angle: 8.56 degrees\n",
            "Maximum range: 300.00 meters\n",
            "For velocity 100 m/s and target distance 350 m:\n",
            "Angle: 10.04 degrees\n",
            "Maximum range: 350.00 meters\n",
            "For velocity 100 m/s and target distance 400 m:\n",
            "Angle: 11.55 degrees\n",
            "Maximum range: 400.00 meters\n",
            "For velocity 100 m/s and target distance 450 m:\n",
            "Angle: 13.10 degrees\n",
            "Maximum range: 450.00 meters\n",
            "For velocity 100 m/s and target distance 500 m:\n",
            "Angle: 14.69 degrees\n",
            "Maximum range: 500.00 meters\n",
            "For velocity 100 m/s and target distance 550 m:\n",
            "Angle: 16.33 degrees\n",
            "Maximum range: 550.00 meters\n",
            "For velocity 100 m/s and target distance 600 m:\n",
            "Angle: 18.03 degrees\n",
            "Maximum range: 600.00 meters\n",
            "For velocity 100 m/s and target distance 650 m:\n",
            "Angle: 19.81 degrees\n",
            "Maximum range: 650.00 meters\n",
            "For velocity 100 m/s and target distance 700 m:\n",
            "Angle: 21.68 degrees\n",
            "Maximum range: 700.00 meters\n",
            "For velocity 100 m/s and target distance 750 m:\n",
            "Angle: 23.69 degrees\n",
            "Maximum range: 750.00 meters\n",
            "For velocity 100 m/s and target distance 800 m:\n",
            "Angle: 25.85 degrees\n",
            "Maximum range: 800.00 meters\n",
            "For velocity 100 m/s and target distance 850 m:\n",
            "Angle: 28.25 degrees\n",
            "Maximum range: 850.00 meters\n",
            "For velocity 100 m/s and target distance 900 m:\n",
            "Angle: 31.00 degrees\n",
            "Maximum range: 900.00 meters\n",
            "For velocity 100 m/s and target distance 950 m:\n",
            "Angle: 34.37 degrees\n",
            "Maximum range: 950.00 meters\n",
            "For velocity 100 m/s and target distance 990 m:\n",
            "Angle: 38.11 degrees\n",
            "Maximum range: 990.00 meters\n",
            "For velocity 100 m/s and target distance 999 m:\n",
            "Angle: 39.26 degrees\n",
            "Maximum range: 999.00 meters\n",
            "For velocity 100 m/s and target distance 1000 m:\n",
            "Angle: 39.41 degrees\n",
            "Maximum range: 1000.00 meters\n",
            "For velocity 100 m/s and target distance 1010 m:\n",
            "Angle: 41.11 degrees\n",
            "Maximum range: 1010.00 meters\n",
            "For velocity 100 m/s and target distance 1019 m:\n",
            "Angle: 44.23 degrees\n",
            "Maximum range: 1019.00 meters\n",
            "For velocity 100 m/s and target distance 1019.367 m:\n",
            "Angle: 44.96 degrees\n",
            "Maximum range: 1019.37 meters\n"
          ]
        }
      ],
      "source": [
        "velocity = [100] # m/s\n",
        "target_distance = [10,50,100,150,200,250,300,350,400,450,500,550,600,650,700,750,800,850,900,950,990,999,1000,1010,1019,1019.367] # m\n",
        "The_angles=[]\n",
        "The_angles_degrees=[]\n",
        "for v in velocity:\n",
        "    for d in target_distance:\n",
        "        theta_opt = successive_bisection(v, d)\n",
        "        max_range = range_func(theta_opt, v)\n",
        "        The_angles.append(theta_opt)\n",
        "        theta_opt_degrees = math.degrees(theta_opt)\n",
        "        The_angles_degrees.append(theta_opt_degrees)\n",
        "        print(f\"For velocity {v} m/s and target distance {d} m:\")\n",
        "        print(f\"Angle: {theta_opt*180/math.pi:.2f} degrees\")\n",
        "        print(f\"Maximum range: {max_range:.2f} meters\")"
      ]
    },
    {
      "cell_type": "code",
      "execution_count": 6,
      "id": "909b0e75",
      "metadata": {
        "id": "909b0e75",
        "outputId": "f7e253a0-5073-4ac3-cc92-074459218c0d",
        "colab": {
          "base_uri": "https://localhost:8080/",
          "height": 472
        }
      },
      "outputs": [
        {
          "output_type": "display_data",
          "data": {
            "text/plain": [
              "<Figure size 640x480 with 1 Axes>"
            ],
            "image/png": "[encoded data removed]"
          },
          "metadata": {}
        }
      ],
      "source": [
        "plt.plot(The_angles_degrees, target_distance)\n",
        "plt.xlabel('Angles (m)')\n",
        "plt.ylabel('Target_Distances')\n",
        "plt.title('Angle vs target distance')\n",
        "plt.xticks([0,1,2,3,4,5,10,15,20,25,30,35,40,45])\n",
        "plt.yticks([10,50,100,150,200,250,300,350,400,450,500,550,600,650,700,750,800,850,900,950,990,999,1000,1010,1017.36])\n",
        "plt.grid()\n",
        "plt.ylim((10,1050))\n",
        "plt.show()"
      ]
    },
    {
      "cell_type": "code",
      "execution_count": 6,
      "id": "67911fa8",
      "metadata": {
        "id": "67911fa8"
      },
      "outputs": [],
      "source": []
    }
  ],
  "metadata": {
    "kernelspec": {
      "display_name": "Python 3 (ipykernel)",
      "language": "python",
      "name": "python3"
    },
    "language_info": {
      "codemirror_mode": {
        "name": "ipython",
        "version": 3
      },
      "file_extension": ".py",
      "mimetype": "text/x-python",
      "name": "python",
      "nbconvert_exporter": "python",
      "pygments_lexer": "ipython3",
      "version": "3.9.13"
    },
    "colab": {
      "provenance": []
    }
  },
  "nbformat": 4,
  "nbformat_minor": 5
}